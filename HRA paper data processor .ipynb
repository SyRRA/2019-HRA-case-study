{
 "cells": [
  {
   "cell_type": "code",
   "execution_count": 297,
   "metadata": {},
   "outputs": [],
   "source": [
    "import pandas as pd\n",
    "import os\n",
    "import random\n",
    "from openpyxl import load_workbook\n",
    "import xlsxwriter "
   ]
  },
  {
   "cell_type": "code",
   "execution_count": 75,
   "metadata": {},
   "outputs": [],
   "source": [
    "#write the processed data excel file\n",
    "import xlsxwriter \n",
    "  \n",
    "workbook = xlsxwriter.Workbook('Pocessed data.xlsx') \n",
    "worksheet = workbook.add_worksheet() \n",
    "  \n",
    "# Start from the first cell. \n",
    "# Rows and columns are zero indexed. \n",
    "row = 0\n",
    "column = 0\n",
    "  \n",
    "#Headers row\n",
    "# content = ['ExpectationBias','Attention','Procedure_Quality',\n",
    "#            'Data_discounted','HSI_output', 'Wrong_data_source',\n",
    "#            'Wrong_data_obtained','Information_gathering_failure'] \n",
    "# # iterating through content list \n",
    "# for item in content : \n",
    "#     worksheet.write(row, column, item) \n",
    "#     column += 1\n",
    "      \n",
    "#read and excel file \n",
    "excel_file = 'rawdataforRamin.xlsx'\n",
    "rawdata = pd.read_excel(excel_file)\n",
    "#rawdata.head\n",
    "\n",
    "\n",
    "A = rawdata['Total opportunities']\n",
    "r = 1 \n",
    "c = 0\n",
    "#for i in range(228):\n",
    "for i in range(228):\n",
    "    x=int(A[i]) \n",
    "    cont = list(rawdata.iloc[i])\n",
    "    for j in range(x):\n",
    "        for item in cont:\n",
    "            worksheet.write(r, c, item) \n",
    "            c += 1\n",
    "        c = 0\n",
    "        r += 1\n",
    "sub_df.iloc[0]['Number of errors']\n",
    "    \n",
    "#workbook.close()    "
   ]
  },
  {
   "cell_type": "code",
   "execution_count": 298,
   "metadata": {},
   "outputs": [],
   "source": [
    "def Error(b):\n",
    "    list = [];\n",
    "    if b==0:\n",
    "        L = ['NoError','NoError','NoError','NoError']\n",
    "    else:\n",
    "        list1 = ['Error','NoError','NoError','Error'] \n",
    "        list2 = ['NoError','Error','Error','Error'] \n",
    "        T = random.choice([True, False])\n",
    "        if T ==True:\n",
    "            L = list1\n",
    "        else:\n",
    "            L = list2\n",
    "    return L\n",
    "   "
   ]
  },
  {
   "cell_type": "code",
   "execution_count": 303,
   "metadata": {
    "scrolled": false
   },
   "outputs": [],
   "source": [
    "#setting the error cell's values \n",
    "import xlwt\n",
    "workbook = xlsxwriter.Workbook('output.xlsx') \n",
    "sheet1 = workbook.add_worksheet() \n",
    "wb = 'Pocessed data1.xlsx'\n",
    "pdata = pd.read_excel(wb)\n",
    "N = pdata['Number of errors']\n",
    "c1 =0\n",
    "for i in range(2805):\n",
    "    x=int(N[i])\n",
    "    Assign = Error(x)\n",
    "    for item in Assign:\n",
    "        sheet1.write(i, c1, item)\n",
    "        c1 += 1\n",
    "    c1 = 0\n",
    "\n",
    "    \n",
    "#     pdata[i,'Information_gathering_failure'] =  Assign[3]\n",
    "# pdata.to_excel('output.xlsx', engine='xlsxwriter')   \n",
    "\n"
   ]
  },
  {
   "cell_type": "code",
   "execution_count": 262,
   "metadata": {},
   "outputs": [
    {
     "ename": "ValueError",
     "evalue": "could not convert string to float: 'error'",
     "output_type": "error",
     "traceback": [
      "\u001b[1;31m---------------------------------------------------------------------------\u001b[0m",
      "\u001b[1;31mValueError\u001b[0m                                Traceback (most recent call last)",
      "\u001b[1;32m<ipython-input-262-ddea990a29cd>\u001b[0m in \u001b[0;36m<module>\u001b[1;34m()\u001b[0m\n\u001b[1;32m----> 1\u001b[1;33m \u001b[0mpdata\u001b[0m\u001b[1;33m.\u001b[0m\u001b[0mset_value\u001b[0m\u001b[1;33m(\u001b[0m\u001b[1;36m100\u001b[0m\u001b[1;33m,\u001b[0m \u001b[1;34m'Data_discounted'\u001b[0m\u001b[1;33m,\u001b[0m \u001b[0mfloat\u001b[0m\u001b[1;33m(\u001b[0m\u001b[1;34m'error'\u001b[0m\u001b[1;33m)\u001b[0m\u001b[1;33m)\u001b[0m\u001b[1;33m\u001b[0m\u001b[0m\n\u001b[0m\u001b[0;32m      2\u001b[0m \u001b[0mpdata\u001b[0m\u001b[1;33m[\u001b[0m\u001b[1;36m100\u001b[0m\u001b[1;33m,\u001b[0m\u001b[1;34m'Data_discounted'\u001b[0m\u001b[1;33m]\u001b[0m\u001b[1;33m\u001b[0m\u001b[0m\n",
      "\u001b[1;31mValueError\u001b[0m: could not convert string to float: 'error'"
     ]
    }
   ],
   "source": [
    "import xlwt\n",
    "list1=[2.34,4.346,4.234]\n",
    "\n",
    "book = xlwt.Workbook(encoding=\"utf-8\")\n",
    "\n",
    "sheet1 = book.add_sheet(\"Sheet 1\")"
   ]
  },
  {
   "cell_type": "code",
   "execution_count": 265,
   "metadata": {},
   "outputs": [
    {
     "ename": "ValueError",
     "evalue": "could not convert string to float: 'error'",
     "output_type": "error",
     "traceback": [
      "\u001b[1;31m---------------------------------------------------------------------------\u001b[0m",
      "\u001b[1;31mValueError\u001b[0m                                Traceback (most recent call last)",
      "\u001b[1;32m<ipython-input-265-969b16b3c6c5>\u001b[0m in \u001b[0;36m<module>\u001b[1;34m()\u001b[0m\n\u001b[1;32m----> 1\u001b[1;33m \u001b[0mpdata\u001b[0m\u001b[1;33m.\u001b[0m\u001b[0mat\u001b[0m\u001b[1;33m[\u001b[0m\u001b[1;36m100\u001b[0m\u001b[1;33m,\u001b[0m \u001b[1;34m'Data_discounted'\u001b[0m\u001b[1;33m]\u001b[0m \u001b[1;33m=\u001b[0m \u001b[0mfloat\u001b[0m\u001b[1;33m(\u001b[0m\u001b[1;34m'error'\u001b[0m\u001b[1;33m)\u001b[0m\u001b[1;33m\u001b[0m\u001b[0m\n\u001b[0m\u001b[0;32m      2\u001b[0m \u001b[0mpdata\u001b[0m\u001b[1;33m[\u001b[0m\u001b[1;36m100\u001b[0m\u001b[1;33m,\u001b[0m\u001b[1;34m'Data_discounted'\u001b[0m\u001b[1;33m]\u001b[0m\u001b[1;33m\u001b[0m\u001b[0m\n",
      "\u001b[1;31mValueError\u001b[0m: could not convert string to float: 'error'"
     ]
    }
   ],
   "source": [
    "pdata.at[100, 'Data_discounted'] = float('error')\n",
    "pdata[100,'Data_discounted'] "
   ]
  },
  {
   "cell_type": "code",
   "execution_count": 239,
   "metadata": {},
   "outputs": [
    {
     "data": {
      "text/plain": [
       "'Good'"
      ]
     },
     "execution_count": 239,
     "metadata": {},
     "output_type": "execute_result"
    }
   ],
   "source": [
    "pdata.iloc[10]['Data_discounted']\n",
    "pdata.iloc[10]['Wrong_data_source'] \n",
    "pdata.iloc[10]['Wrong_data_obtained'] \n",
    "pdata.iloc[10]['Procedure_Quality'] "
   ]
  },
  {
   "cell_type": "code",
   "execution_count": 210,
   "metadata": {},
   "outputs": [
    {
     "name": "stdout",
     "output_type": "stream",
     "text": [
      "false\n"
     ]
    }
   ],
   "source": [
    "import random\n",
    "T = random.choice([True, False])\n",
    "if T ==True:\n",
    "    print(\"true\")\n",
    "else:\n",
    "    print(\"false\")"
   ]
  },
  {
   "cell_type": "code",
   "execution_count": 214,
   "metadata": {},
   "outputs": [
    {
     "data": {
      "text/plain": [
       "'NoError'"
      ]
     },
     "execution_count": 214,
     "metadata": {},
     "output_type": "execute_result"
    }
   ],
   "source": [
    "Assign[1]\n",
    "# pdata.iloc[0]['Data_discounted'] =  Assign[1]"
   ]
  }
 ],
 "metadata": {
  "kernelspec": {
   "display_name": "Python 3",
   "language": "python",
   "name": "python3"
  },
  "language_info": {
   "codemirror_mode": {
    "name": "ipython",
    "version": 3
   },
   "file_extension": ".py",
   "mimetype": "text/x-python",
   "name": "python",
   "nbconvert_exporter": "python",
   "pygments_lexer": "ipython3",
   "version": "3.6.4"
  }
 },
 "nbformat": 4,
 "nbformat_minor": 2
}
